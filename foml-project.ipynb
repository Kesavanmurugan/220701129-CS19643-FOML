{
  "nbformat": 4,
  "nbformat_minor": 0,
  "metadata": {
    "colab": {
      "provenance": []
    },
    "kernelspec": {
      "name": "python3",
      "display_name": "Python 3"
    },
    "language_info": {
      "name": "python"
    }
  },
  "cells": [
    {
      "cell_type": "code",
      "execution_count": null,
      "metadata": {
        "colab": {
          "base_uri": "https://localhost:8080/"
        },
        "id": "fxujJjiojX6Q",
        "outputId": "cc1774af-a156-47da-c5c8-e49b4f403f95"
      },
      "outputs": [
        {
          "output_type": "stream",
          "name": "stdout",
          "text": [
            "Requirement already satisfied: pandas in /usr/local/lib/python3.11/dist-packages (2.2.2)\n",
            "Requirement already satisfied: numpy>=1.23.2 in /usr/local/lib/python3.11/dist-packages (from pandas) (2.0.2)\n",
            "Requirement already satisfied: python-dateutil>=2.8.2 in /usr/local/lib/python3.11/dist-packages (from pandas) (2.9.0.post0)\n",
            "Requirement already satisfied: pytz>=2020.1 in /usr/local/lib/python3.11/dist-packages (from pandas) (2025.2)\n",
            "Requirement already satisfied: tzdata>=2022.7 in /usr/local/lib/python3.11/dist-packages (from pandas) (2025.2)\n",
            "Requirement already satisfied: six>=1.5 in /usr/local/lib/python3.11/dist-packages (from python-dateutil>=2.8.2->pandas) (1.17.0)\n"
          ]
        }
      ],
      "source": [
        "!pip install pandas\n"
      ]
    },
    {
      "cell_type": "code",
      "source": [
        "!pip install matplotlib\n"
      ],
      "metadata": {
        "colab": {
          "base_uri": "https://localhost:8080/"
        },
        "id": "RxPEyDsUkH1F",
        "outputId": "28e02b62-6a68-445e-aa25-db448832236f"
      },
      "execution_count": null,
      "outputs": [
        {
          "output_type": "stream",
          "name": "stdout",
          "text": [
            "Requirement already satisfied: matplotlib in /usr/local/lib/python3.11/dist-packages (3.10.0)\n",
            "Requirement already satisfied: contourpy>=1.0.1 in /usr/local/lib/python3.11/dist-packages (from matplotlib) (1.3.2)\n",
            "Requirement already satisfied: cycler>=0.10 in /usr/local/lib/python3.11/dist-packages (from matplotlib) (0.12.1)\n",
            "Requirement already satisfied: fonttools>=4.22.0 in /usr/local/lib/python3.11/dist-packages (from matplotlib) (4.57.0)\n",
            "Requirement already satisfied: kiwisolver>=1.3.1 in /usr/local/lib/python3.11/dist-packages (from matplotlib) (1.4.8)\n",
            "Requirement already satisfied: numpy>=1.23 in /usr/local/lib/python3.11/dist-packages (from matplotlib) (2.0.2)\n",
            "Requirement already satisfied: packaging>=20.0 in /usr/local/lib/python3.11/dist-packages (from matplotlib) (24.2)\n",
            "Requirement already satisfied: pillow>=8 in /usr/local/lib/python3.11/dist-packages (from matplotlib) (11.2.1)\n",
            "Requirement already satisfied: pyparsing>=2.3.1 in /usr/local/lib/python3.11/dist-packages (from matplotlib) (3.2.3)\n",
            "Requirement already satisfied: python-dateutil>=2.7 in /usr/local/lib/python3.11/dist-packages (from matplotlib) (2.9.0.post0)\n",
            "Requirement already satisfied: six>=1.5 in /usr/local/lib/python3.11/dist-packages (from python-dateutil>=2.7->matplotlib) (1.17.0)\n"
          ]
        }
      ]
    },
    {
      "cell_type": "code",
      "source": [
        "!pip install scikit-learn\n"
      ],
      "metadata": {
        "colab": {
          "base_uri": "https://localhost:8080/"
        },
        "id": "AZuqv5FNkXwA",
        "outputId": "c3019c8e-25f5-4b39-c2ef-2c086f311442"
      },
      "execution_count": null,
      "outputs": [
        {
          "output_type": "stream",
          "name": "stdout",
          "text": [
            "Requirement already satisfied: scikit-learn in /usr/local/lib/python3.11/dist-packages (1.6.1)\n",
            "Requirement already satisfied: numpy>=1.19.5 in /usr/local/lib/python3.11/dist-packages (from scikit-learn) (2.0.2)\n",
            "Requirement already satisfied: scipy>=1.6.0 in /usr/local/lib/python3.11/dist-packages (from scikit-learn) (1.15.2)\n",
            "Requirement already satisfied: joblib>=1.2.0 in /usr/local/lib/python3.11/dist-packages (from scikit-learn) (1.4.2)\n",
            "Requirement already satisfied: threadpoolctl>=3.1.0 in /usr/local/lib/python3.11/dist-packages (from scikit-learn) (3.6.0)\n"
          ]
        }
      ]
    },
    {
      "cell_type": "code",
      "source": [
        "import pandas as pd\n",
        "from sklearn.model_selection import train_test_split\n",
        "from sklearn.ensemble import RandomForestClassifier\n",
        "from sklearn.preprocessing import LabelEncoder\n",
        "from sklearn.metrics import accuracy_score, confusion_matrix, classification_report\n",
        "from sklearn.linear_model import LogisticRegression\n",
        "from sklearn.tree import DecisionTreeClassifier\n"
      ],
      "metadata": {
        "id": "VUEUt9sykmos"
      },
      "execution_count": null,
      "outputs": []
    },
    {
      "cell_type": "code",
      "source": [
        "import matplotlib.pyplot as plt\n"
      ],
      "metadata": {
        "id": "I3BDXBrZk7kt"
      },
      "execution_count": null,
      "outputs": []
    },
    {
      "cell_type": "code",
      "source": [
        "data = {\n",
        "    'pH': [7.1,6.8,5.5,8.0,6.2,7.5,6.9,8.5,7.2,5.8,7.0,6.5,7.4,8.2,5.9,7.3,6.7,5.6,8.1,6.0,\n",
        "           7.6,6.4,8.3,5.7,7.1,6.3,7.8,5.5,6.6,8.4,7.0,6.1,7.7,5.8,7.5,6.9,5.6,8.0,6.5,7.2,\n",
        "           8.1,5.9,7.4,6.2,8.5,6.8,7.1,5.7,8.3,6.6],\n",
        "    'Temperature': [22.5,24.1,26.0,20.0,28.3,19.8,21.0,23.4,22.1,25.7,21.8,27.5,20.5,22.9,26.8,21.3,\n",
        "                    23.1,29.0,20.2,27.1,19.7,25.0,21.6,28.5,22.2,26.3,20.8,30.0,24.8,22.5,21.5,27.0,\n",
        "                    20.3,28.0,22.7,23.5,29.5,20.6,25.5,21.9,23.2,26.5,20.9,28.2,22.8,24.5,22.0,29.8,\n",
        "                    21.4,26.0],\n",
        "    'Turbidity': [1.2,1.5,4.8,0.5,2.9,1.0,1.3,5.2,0.9,6.5,1.1,2.0,0.7,1.4,3.5,0.8,1.7,5.0,0.6,4.0,\n",
        "                  1.0,2.5,0.7,5.3,1.2,3.0,0.9,6.7,2.2,0.6,1.0,3.8,0.5,5.1,1.3,1.8,5.8,0.7,2.6,1.1,0.8,\n",
        "                  4.5,0.9,3.1,0.5,2.0,1.0,5.5,0.6,2.8],\n",
        "    'Dissolved_Oxygen': [8.3,7.9,6.0,9.0,5.5,8.6,7.5,6.8,8.0,5.0,8.1,6.5,8.8,7.7,6.2,8.4,7.2,5.8,\n",
        "                         9.1,5.7,8.7,6.9,8.5,5.9,8.2,6.4,8.9,5.1,7.0,9.2,8.0,6.1,9.0,5.5,8.3,7.4,5.2,\n",
        "                         8.9,6.7,8.1,8.6,5.6,8.7,6.3,9.3,7.3,8.2,5.0,9.0,6.8],\n",
        "    'Conductivity': [250,270,450,220,500,230,240,380,260,520,245,400,210,275,430,225,290,480,200,470,\n",
        "                     235,360,215,490,255,410,205,530,340,190,240,450,225,495,265,300,520,210,370,250,\n",
        "                     230,460,220,420,180,320,260,540,195,350],\n",
        "    'Drinkable': ['Yes','Yes','No','Yes','No','Yes','Yes','No','Yes','No','Yes','No','Yes','Yes','No',\n",
        "                  'Yes','Yes','No','Yes','No','Yes','No','Yes','No','Yes','No','Yes','No','No','Yes',\n",
        "                  'Yes','No','Yes','No','Yes','Yes','No','Yes','No','Yes','Yes','No','Yes','No','Yes',\n",
        "                  'No','Yes','No','Yes','No']\n",
        "}\n"
      ],
      "metadata": {
        "id": "EVIpMGVMlAme"
      },
      "execution_count": null,
      "outputs": []
    },
    {
      "cell_type": "code",
      "source": [
        "df = pd.DataFrame(data)"
      ],
      "metadata": {
        "id": "0jm2qu8RlC1H"
      },
      "execution_count": null,
      "outputs": []
    },
    {
      "cell_type": "code",
      "source": [
        "\n",
        "df['Drinkable'] = LabelEncoder().fit_transform(df['Drinkable'])\n",
        "\n",
        "X = df.drop('Drinkable', axis=1)\n",
        "y = df['Drinkable']"
      ],
      "metadata": {
        "id": "oziydDVhlI9O"
      },
      "execution_count": null,
      "outputs": []
    },
    {
      "cell_type": "code",
      "source": [
        "X_train, X_test, y_train, y_test = train_test_split(X, y, test_size=0.2, random_state=42)\n",
        "\n",
        "model = RandomForestClassifier(random_state=42)\n",
        "model.fit(X_train, y_train)\n",
        "\n",
        "y_pred = model.predict(X_test)\n",
        "\n",
        "print(\" Accuracy:\", accuracy_score(y_test, y_pred))"
      ],
      "metadata": {
        "colab": {
          "base_uri": "https://localhost:8080/"
        },
        "id": "KhCvMFPWlN0I",
        "outputId": "2ef8f851-3907-4ff3-f457-95e55d612bd6"
      },
      "execution_count": null,
      "outputs": [
        {
          "output_type": "stream",
          "name": "stdout",
          "text": [
            " Accuracy: 0.9\n"
          ]
        }
      ]
    },
    {
      "cell_type": "code",
      "source": [
        "print(\"\\n--- Logistic Regression ---\")\n",
        "lr_model = LogisticRegression(max_iter=1000)\n",
        "lr_model.fit(X_train, y_train)\n",
        "y_pred_lr = lr_model.predict(X_test)\n",
        "\n",
        "print(\"Accuracy:\", accuracy_score(y_test, y_pred_lr))"
      ],
      "metadata": {
        "colab": {
          "base_uri": "https://localhost:8080/"
        },
        "id": "lUk8QeOWlRii",
        "outputId": "64c65b31-7208-400f-e975-28038776f9e9"
      },
      "execution_count": null,
      "outputs": [
        {
          "output_type": "stream",
          "name": "stdout",
          "text": [
            "\n",
            "--- Logistic Regression ---\n",
            "Accuracy: 1.0\n"
          ]
        }
      ]
    },
    {
      "cell_type": "code",
      "source": [
        "print(\"\\n--- Decision Tree Classifier ---\")\n",
        "dt_model = DecisionTreeClassifier(random_state=42)\n",
        "dt_model.fit(X_train, y_train)\n",
        "y_pred_dt = dt_model.predict(X_test)\n",
        "\n",
        "print(\"Accuracy:\", accuracy_score(y_test, y_pred_dt))"
      ],
      "metadata": {
        "colab": {
          "base_uri": "https://localhost:8080/"
        },
        "id": "AAguPk0AlV2D",
        "outputId": "35d3cb74-13a5-42f2-9cea-17149e1e020f"
      },
      "execution_count": null,
      "outputs": [
        {
          "output_type": "stream",
          "name": "stdout",
          "text": [
            "\n",
            "--- Decision Tree Classifier ---\n",
            "Accuracy: 0.9\n"
          ]
        }
      ]
    },
    {
      "cell_type": "code",
      "source": [
        "importances = model.feature_importances_\n",
        "features = X.columns\n",
        "plt.figure(figsize=(8, 5))\n",
        "plt.barh(features, importances, color='skyblue')\n",
        "plt.xlabel('Feature Importance')\n",
        "plt.title('🔍 Feature Importance for Water Drinkability')\n",
        "plt.show()"
      ],
      "metadata": {
        "colab": {
          "base_uri": "https://localhost:8080/",
          "height": 522
        },
        "id": "tfWxDcsKlgeU",
        "outputId": "202c3e70-d544-48e9-8c5e-38395afac3a0"
      },
      "execution_count": null,
      "outputs": [
        {
          "output_type": "stream",
          "name": "stderr",
          "text": [
            "/usr/local/lib/python3.11/dist-packages/IPython/core/pylabtools.py:151: UserWarning: Glyph 128269 (\\N{LEFT-POINTING MAGNIFYING GLASS}) missing from font(s) DejaVu Sans.\n",
            "  fig.canvas.print_figure(bytes_io, **kw)\n"
          ]
        },
        {
          "output_type": "display_data",
          "data": {
            "text/plain": [
              "<Figure size 800x500 with 1 Axes>"
            ],
            "image/png": "[encoded data removed]"
          },
          "metadata": {}
        }
      ]
    }
  ]
}